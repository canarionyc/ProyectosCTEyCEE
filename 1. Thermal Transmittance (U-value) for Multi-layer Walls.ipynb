{
 "cells": [
  {
   "metadata": {},
   "cell_type": "markdown",
   "source": "The most basic calculation is for the thermal transmittance of building elements in contact with external air (walls, roofs, etc.), which uses the formula U = 1/RT, where RT is the total thermal resistance.",
   "id": "b5775eaa957fc0f4"
  },
  {
   "metadata": {
    "ExecuteTime": {
     "end_time": "2025-09-20T19:08:53.150834Z",
     "start_time": "2025-09-20T19:08:53.004190Z"
    }
   },
   "cell_type": "code",
   "source": [
    "import numpy as np\n",
    "# import pandas as pd\n",
    "\n",
    "import sys\n",
    "print(sys.path)\n",
    "#sys.path.append(\"..\")\n",
    "from pyCTE import ureg, Quantity\n",
    "\n",
    "def calculate_wall_u_value(layers, position=\"vertical\"):\n",
    "    \"\"\"\n",
    "    Calculate the U-value of a wall with multiple layers\n",
    "\n",
    "    Parameters:\n",
    "    layers: list of tuples (thickness in m, thermal conductivity in W/mK)\n",
    "    position: \"vertical\", \"horizontal_upward\", \"horizontal_downward\"\n",
    "\n",
    "    Returns:\n",
    "    U-value in W/m²K\n",
    "    \"\"\"\n",
    "    # Define surface resistances based on position\n",
    "    # default is vertical\n",
    "    Rsi = 0.13  # Interior surface resistance\n",
    "    Rse = 0.04  # Exterior surface resistance\n",
    "    if position == \"vertical\":\n",
    "        Rsi = 0.13  # Interior surface resistance\n",
    "        Rse = 0.04  # Exterior surface resistance\n",
    "    elif position == \"horizontal_upward\":\n",
    "        Rsi = 0.10\n",
    "        Rse = 0.04\n",
    "    elif position == \"horizontal_downward\":\n",
    "        Rsi = 0.17\n",
    "        Rse = 0.04\n",
    "\n",
    "    # Calculate resistance of each layer\n",
    "    layer_resistances = [thickness/conductivity for thickness, conductivity in layers]\n",
    "\n",
    "    # Calculate total resistance\n",
    "    RT = Rsi + sum(layer_resistances) + Rse\n",
    "\n",
    "    # Calculate U-value\n",
    "    U = 1 / RT\n",
    "\n",
    "    return U"
   ],
   "id": "1d96f1dc8c4a609f",
   "outputs": [
    {
     "ename": "ModuleNotFoundError",
     "evalue": "No module named 'pyCTE'",
     "output_type": "error",
     "traceback": [
      "\u001B[31m---------------------------------------------------------------------------\u001B[39m",
      "\u001B[31mModuleNotFoundError\u001B[39m                       Traceback (most recent call last)",
      "\u001B[36mCell\u001B[39m\u001B[36m \u001B[39m\u001B[32mIn[5]\u001B[39m\u001B[32m, line 3\u001B[39m\n\u001B[32m      1\u001B[39m \u001B[38;5;28;01mimport\u001B[39;00m\u001B[38;5;250m \u001B[39m\u001B[34;01mnumpy\u001B[39;00m\u001B[38;5;250m \u001B[39m\u001B[38;5;28;01mas\u001B[39;00m\u001B[38;5;250m \u001B[39m\u001B[34;01mnp\u001B[39;00m\n\u001B[32m      2\u001B[39m \u001B[38;5;66;03m# import pandas as pd\u001B[39;00m\n\u001B[32m----> \u001B[39m\u001B[32m3\u001B[39m \u001B[38;5;28;01mfrom\u001B[39;00m\u001B[38;5;250m \u001B[39m\u001B[34;01mpyCTE\u001B[39;00m\u001B[38;5;250m \u001B[39m\u001B[38;5;28;01mimport\u001B[39;00m ureg, Quantity\n\u001B[32m      5\u001B[39m \u001B[38;5;28;01mdef\u001B[39;00m\u001B[38;5;250m \u001B[39m\u001B[34mcalculate_wall_u_value\u001B[39m(layers, position=\u001B[33m\"\u001B[39m\u001B[33mvertical\u001B[39m\u001B[33m\"\u001B[39m):\n\u001B[32m      6\u001B[39m \u001B[38;5;250m    \u001B[39m\u001B[33;03m\"\"\"\u001B[39;00m\n\u001B[32m      7\u001B[39m \u001B[33;03m    Calculate the U-value of a wall with multiple layers\u001B[39;00m\n\u001B[32m      8\u001B[39m \n\u001B[32m   (...)\u001B[39m\u001B[32m     14\u001B[39m \u001B[33;03m    U-value in W/m²K\u001B[39;00m\n\u001B[32m     15\u001B[39m \u001B[33;03m    \"\"\"\u001B[39;00m\n",
      "\u001B[31mModuleNotFoundError\u001B[39m: No module named 'pyCTE'"
     ]
    }
   ],
   "execution_count": 5
  },
  {
   "metadata": {
    "ExecuteTime": {
     "end_time": "2025-09-20T18:43:42.429251Z",
     "start_time": "2025-09-20T18:43:42.426396Z"
    }
   },
   "cell_type": "code",
   "source": [
    "\n",
    "# Example wall composition (thickness in m, thermal conductivity in W/mK)\n",
    "wall_layers = [\n",
    "    (0.015, 0.35),    # Interior plaster\n",
    "    (0.11, 0.52),     # Brick\n",
    "    (0.05, 0.031),    # Thermal insulation\n",
    "    (0.11, 0.52),     # Exterior brick\n",
    "    (0.015, 0.8)      # Exterior mortar\n",
    "]\n",
    "\n",
    "u_value = calculate_wall_u_value(wall_layers)\n",
    "print(f\"Wall U-value: {u_value:.3f} W/m²K\")"
   ],
   "id": "dc4a6db9b3d3849c",
   "outputs": [
    {
     "name": "stdout",
     "output_type": "stream",
     "text": [
      "Wall U-value: 0.441 W/m²K\n"
     ]
    }
   ],
   "execution_count": 3
  }
 ],
 "metadata": {
  "kernelspec": {
   "display_name": "Python 3",
   "language": "python",
   "name": "python3"
  },
  "language_info": {
   "codemirror_mode": {
    "name": "ipython",
    "version": 2
   },
   "file_extension": ".py",
   "mimetype": "text/x-python",
   "name": "python",
   "nbconvert_exporter": "python",
   "pygments_lexer": "ipython2",
   "version": "2.7.6"
  }
 },
 "nbformat": 4,
 "nbformat_minor": 5
}

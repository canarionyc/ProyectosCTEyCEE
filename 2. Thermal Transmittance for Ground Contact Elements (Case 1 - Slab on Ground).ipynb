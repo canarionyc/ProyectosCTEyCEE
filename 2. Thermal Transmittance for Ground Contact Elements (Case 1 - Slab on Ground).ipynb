{
 "cells": [
  {
   "metadata": {},
   "cell_type": "markdown",
   "source": "For floors in contact with the ground, the calculation is more complex and depends on the characteristic length and the insulation.",
   "id": "8d1805150477bd1f"
  },
  {
   "cell_type": "code",
   "id": "initial_id",
   "metadata": {
    "ExecuteTime": {
     "end_time": "2025-09-20T18:45:40.911634Z",
     "start_time": "2025-09-20T18:45:40.908923Z"
    }
   },
   "source": [
    "def calculate_floor_u_value(A, P, Ra=0):\n",
    "    \"\"\"\n",
    "    Calculate the U-value of a floor in contact with the ground\n",
    "\n",
    "    Parameters:\n",
    "    A: Floor area in m²\n",
    "    P: Exposed perimeter in m\n",
    "    Ra: Thermal resistance of insulation in m²K/W\n",
    "\n",
    "    Returns:\n",
    "    U-value in W/m²K\n",
    "    \"\"\"\n",
    "    # Calculate characteristic length B'\n",
    "    B_prime = 2 * A / P\n",
    "\n",
    "    # Use interpolation from Table 3 of the document\n",
    "    # This is a simplified version for demonstration\n",
    "    # In practice, you'd use a more complete implementation of Table 3\n",
    "\n",
    "    # For simplicity, let's implement a few values from the table for B'=5\n",
    "    if Ra == 0:\n",
    "        U = 0.85  # For B'=5, Ra=0\n",
    "    elif Ra == 0.5:\n",
    "        U = 0.69  # For B'=5, Ra=0.5\n",
    "    elif Ra == 1.0:\n",
    "        U = 0.64  # For B'=5, Ra=1.0\n",
    "    else:\n",
    "        # Linear interpolation for other values\n",
    "        # In practice, use a more complete implementation of the table\n",
    "        U = 0.64 - (Ra - 1.0) * 0.03  # Simplified interpolation\n",
    "\n",
    "    return U"
   ],
   "outputs": [],
   "execution_count": 1
  },
  {
   "metadata": {
    "ExecuteTime": {
     "end_time": "2025-09-20T18:45:56.384091Z",
     "start_time": "2025-09-20T18:45:56.381868Z"
    }
   },
   "cell_type": "code",
   "source": [
    "\n",
    "# Example for a rectangular floor\n",
    "floor_area = 100  # m²\n",
    "floor_perimeter = 40  # m\n",
    "insulation_R = 1.5  # m²K/W\n",
    "\n",
    "floor_u = calculate_floor_u_value(floor_area, floor_perimeter, insulation_R)\n",
    "print(f\"Floor U-value: {floor_u:.3f} W/m²K\")"
   ],
   "id": "80ee4a45325bbc1c",
   "outputs": [
    {
     "name": "stdout",
     "output_type": "stream",
     "text": [
      "Floor U-value: 0.625 W/m²K\n"
     ]
    }
   ],
   "execution_count": 2
  }
 ],
 "metadata": {
  "kernelspec": {
   "display_name": "Python 3",
   "language": "python",
   "name": "python3"
  },
  "language_info": {
   "codemirror_mode": {
    "name": "ipython",
    "version": 2
   },
   "file_extension": ".py",
   "mimetype": "text/x-python",
   "name": "python",
   "nbconvert_exporter": "python",
   "pygments_lexer": "ipython2",
   "version": "2.7.6"
  }
 },
 "nbformat": 4,
 "nbformat_minor": 5
}

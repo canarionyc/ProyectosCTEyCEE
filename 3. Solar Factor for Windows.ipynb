{
 "cells": [
  {
   "metadata": {},
   "cell_type": "markdown",
   "source": "The modified solar factor is calculated considering shading devices and frame properties.",
   "id": "4315101d56744828"
  },
  {
   "cell_type": "code",
   "execution_count": null,
   "id": "initial_id",
   "metadata": {
    "collapsed": true
   },
   "outputs": [],
   "source": [
    "def calculate_modified_solar_factor(Fs, FM, g, Um, alpha):\n",
    "    \"\"\"\n",
    "    Calculate the modified solar factor of a window\n",
    "\n",
    "    Parameters:\n",
    "    Fs: Shadow factor\n",
    "    FM: Frame fraction (area of frame / total window area)\n",
    "    g: Solar factor of glass at normal incidence\n",
    "    Um: Thermal transmittance of the frame in W/m²K\n",
    "    alpha: Absorptivity of frame\n",
    "\n",
    "    Returns:\n",
    "    Modified solar factor\n",
    "    \"\"\"\n",
    "    F = Fs * ((1 - FM) * g + FM * 0.04 * Um * alpha)\n",
    "    return F\n",
    "\n",
    "# Example for a south-facing window with blinds\n",
    "Fs = 0.50  # Shadow factor (could be from Table 12-16 based on shading devices)\n",
    "FM = 0.25  # Frame covers 25% of the window area\n",
    "g = 0.75   # Solar factor of the glass\n",
    "Um = 5.7   # Thermal transmittance of the frame\n",
    "alpha = 0.7  # Medium-dark colored frame\n",
    "\n",
    "solar_factor = calculate_modified_solar_factor(Fs, FM, g, Um, alpha)\n",
    "print(f\"Modified solar factor: {solar_factor:.3f}\")"
   ]
  }
 ],
 "metadata": {
  "kernelspec": {
   "display_name": "Python 3",
   "language": "python",
   "name": "python3"
  },
  "language_info": {
   "codemirror_mode": {
    "name": "ipython",
    "version": 2
   },
   "file_extension": ".py",
   "mimetype": "text/x-python",
   "name": "python",
   "nbconvert_exporter": "python",
   "pygments_lexer": "ipython2",
   "version": "2.7.6"
  }
 },
 "nbformat": 4,
 "nbformat_minor": 5
}

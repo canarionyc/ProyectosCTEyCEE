{
 "cells": [
  {
   "metadata": {},
   "cell_type": "markdown",
   "source": [
    "# La Casa Solar\n",
    "\n",
    "![Schweikher Living Room](C:\\ProyectosCTEyCEE\\markdown\\Schweikher_living_room_sun.jpg)\n",
    "\n",
    "El video https://www.youtube.com/watch?v=Qq-3cZ0cbws describe una casa creada en los años '30 que incorpora principios de diseño solar y energía renovable. La casa está diseñada para aprovechar al máximo la energía solar y la ventilación natural, lo que la convierte en un ejemplo de arquitectura sostenible y eficiente.\n"
   ],
   "id": "b42b73bcb118de4a"
  },
  {
   "cell_type": "code",
   "execution_count": null,
   "id": "initial_id",
   "metadata": {
    "collapsed": true
   },
   "outputs": [],
   "source": [
    ""
   ]
  }
 ],
 "metadata": {
  "kernelspec": {
   "display_name": "Python 3",
   "language": "python",
   "name": "python3"
  },
  "language_info": {
   "codemirror_mode": {
    "name": "ipython",
    "version": 2
   },
   "file_extension": ".py",
   "mimetype": "text/x-python",
   "name": "python",
   "nbconvert_exporter": "python",
   "pygments_lexer": "ipython2",
   "version": "2.7.6"
  }
 },
 "nbformat": 4,
 "nbformat_minor": 5
}

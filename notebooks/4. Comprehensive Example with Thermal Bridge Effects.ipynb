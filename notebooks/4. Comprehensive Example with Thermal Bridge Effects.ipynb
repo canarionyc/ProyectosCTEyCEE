{
 "cells": [
  {
   "metadata": {
    "collapsed": true
   },
   "cell_type": "markdown",
   "source": "For a more complex example, here's how to calculate thermal transmittance considering thermal bridges in a heterogeneous element:",
   "id": "811d23a803a9f00a"
  },
  {
   "metadata": {},
   "cell_type": "code",
   "execution_count": null,
   "source": [
    "def calculate_heterogeneous_rt(layers_and_fractions):\n",
    "    \"\"\"\n",
    "    Calculate resistance of heterogeneous construction (upper and lower limits)\n",
    "\n",
    "    Parameters:\n",
    "    layers_and_fractions: list of layers, where each layer is\n",
    "                         either a single value (homogeneous layer resistance)\n",
    "                         or a list of tuples (resistance, area_fraction) for heterogeneous layers\n",
    "\n",
    "    Returns:\n",
    "    RT: Average thermal resistance\n",
    "    \"\"\"\n",
    "    # Calculate upper limit (R'T)\n",
    "    total_r_upper = 0\n",
    "\n",
    "    for layer in layers_and_fractions:\n",
    "        if isinstance(layer, (int, float)):\n",
    "            # Homogeneous layer\n",
    "            total_r_upper += layer\n",
    "        else:\n",
    "            # Heterogeneous layer - calculate parallel resistances\n",
    "            layer_r_upper = 0\n",
    "            for r, fraction in layer:\n",
    "                layer_r_upper += fraction / r\n",
    "            total_r_upper += 1 / layer_r_upper\n",
    "\n",
    "    # Calculate lower limit (R''T)\n",
    "    total_r_lower = 0\n",
    "\n",
    "    # Transpose the data structure to process by column\n",
    "    n_columns = len([item for item in layers_and_fractions if isinstance(item, list)][0])\n",
    "    columns = [0] * n_columns\n",
    "\n",
    "    for i, layer in enumerate(layers_and_fractions):\n",
    "        if isinstance(layer, (int, float)):\n",
    "            # Add homogeneous resistance to all columns\n",
    "            for j in range(n_columns):\n",
    "                columns[j] += layer\n",
    "        else:\n",
    "            # Add heterogeneous resistance to corresponding column\n",
    "            for j, (r, _) in enumerate(layer):\n",
    "                columns[j] += r\n",
    "\n",
    "    # Calculate total for each column\n",
    "    for j in range(n_columns):\n",
    "        r_column = columns[j]\n",
    "        _, fraction = [item for item in layers_and_fractions if isinstance(item, list)][0][j]\n",
    "        total_r_lower += fraction / r_column\n",
    "\n",
    "    # Average the limits\n",
    "    RT = (total_r_upper + 1/total_r_lower) / 2\n",
    "\n",
    "    return RT"
   ],
   "id": "df25d50d0710c7f6",
   "outputs": []
  },
  {
   "metadata": {},
   "cell_type": "code",
   "outputs": [],
   "execution_count": null,
   "source": [
    "# Example: Wall with thermal bridges (simplified for demonstration)\n",
    "# Structure:\n",
    "# - Exterior surface resistance: 0.04 m²K/W\n",
    "# - Brick (homogeneous): R=0.21 m²K/W\n",
    "# - Insulation with wooden studs:\n",
    "#   80% insulation (R=1.61 m²K/W) and 20% wood studs (R=0.45 m²K/W)\n",
    "# - Gypsum board (homogeneous): R=0.06 m²K/W\n",
    "# - Interior surface resistance: 0.13 m²K/W\n",
    "\n",
    "wall_layers = [\n",
    "    0.04,  # Rse\n",
    "    0.21,  # Brick\n",
    "    [(1.61, 0.8), (0.45, 0.2)],  # Insulation with wood studs\n",
    "    0.06,  # Gypsum board\n",
    "    0.13   # Rsi\n",
    "]\n",
    "\n",
    "rt_wall = calculate_heterogeneous_rt(wall_layers)\n",
    "u_wall = 1 / rt_wall\n",
    "\n",
    "print(f\"Wall with thermal bridges U-value: {u_wall:.3f} W/m²K\")"
   ],
   "id": "3a48695e1d9ce6ce"
  }
 ],
 "metadata": {
  "kernelspec": {
   "display_name": "Python 3",
   "language": "python",
   "name": "python3"
  },
  "language_info": {
   "codemirror_mode": {
    "name": "ipython",
    "version": 2
   },
   "file_extension": ".py",
   "mimetype": "text/x-python",
   "name": "python",
   "nbconvert_exporter": "python",
   "pygments_lexer": "ipython2",
   "version": "2.7.6"
  }
 },
 "nbformat": 4,
 "nbformat_minor": 5
}

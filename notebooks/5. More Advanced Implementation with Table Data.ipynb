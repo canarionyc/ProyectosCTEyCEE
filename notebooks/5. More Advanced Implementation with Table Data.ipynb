{
 "cells": [
  {
   "metadata": {},
   "cell_type": "markdown",
   "source": "For a more practical implementation, we could build dataframes with the table data from the document:",
   "id": "acdefb4c2eafc7a9"
  },
  {
   "cell_type": "code",
   "execution_count": null,
   "id": "initial_id",
   "metadata": {},
   "source": [
    "import pandas as pd\n",
    "import numpy as np\n",
    "from scipy.interpolate import griddata\n",
    "\n",
    "# Example: Creating a dataframe for Table 3 - Ground floor U-values\n",
    "# (simplified version with fewer values)\n",
    "B_prime_values = [1, 2, 3, 4, 5, 6, 7, 8, 9, 10]\n",
    "Ra_values = [0.00, 0.50, 1.00, 1.50, 2.00]\n",
    "\n",
    "# Partial data from Table 3\n",
    "data = [\n",
    "    [2.35, 1.57, 1.30, 1.16, 1.07],  # B'=1\n",
    "    [1.56, 1.17, 1.04, 0.97, 0.92],  # B'=2\n",
    "    [1.20, 0.94, 0.85, 0.80, 0.78],  # B'=3\n",
    "    [0.99, 0.79, 0.73, 0.69, 0.67],  # B'=4\n",
    "    [0.85, 0.69, 0.64, 0.61, 0.59],  # B'=5\n",
    "    [0.74, 0.61, 0.57, 0.54, 0.53],  # B'=6\n",
    "    [0.66, 0.55, 0.51, 0.49, 0.48],  # B'=7\n",
    "    [0.60, 0.50, 0.47, 0.45, 0.44],  # B'=8\n",
    "    [0.55, 0.46, 0.43, 0.42, 0.41],  # B'=9\n",
    "    [0.51, 0.43, 0.40, 0.39, 0.38]   # B'=10\n",
    "]\n",
    "\n",
    "# Create the dataframe\n",
    "df_ground_floor = pd.DataFrame(data, index=B_prime_values, columns=Ra_values)\n",
    "\n",
    "def get_ground_floor_u_value(B_prime, Ra):\n",
    "    \"\"\"\n",
    "    Get U-value for ground floor using interpolation of Table 3\n",
    "\n",
    "    Parameters:\n",
    "    B_prime: Characteristic dimension B'\n",
    "    Ra: Thermal resistance of insulation\n",
    "\n",
    "    Returns:\n",
    "    U-value in W/m²K\n",
    "    \"\"\"\n",
    "    # Limit values to the range in the table\n",
    "    B_prime = max(min(B_prime, 10), 1)\n",
    "    Ra = max(min(Ra, 2.0), 0.0)\n",
    "\n",
    "    # Use DataFrame's built-in interpolation\n",
    "    if B_prime in df_ground_floor.index and Ra in df_ground_floor.columns:\n",
    "        return df_ground_floor.loc[B_prime, Ra]\n",
    "    else:\n",
    "        # Create points for interpolation\n",
    "        points = [(b, r) for b in B_prime_values for r in Ra_values]\n",
    "        values = [df_ground_floor.loc[b, r] for b in B_prime_values for r in Ra_values]\n",
    "\n",
    "        # Perform 2D interpolation\n",
    "        return griddata(points, values, (B_prime, Ra))[0]\n"
   ],
   "outputs": []
  },
  {
   "metadata": {},
   "cell_type": "code",
   "outputs": [],
   "execution_count": null,
   "source": [
    "# Example usage\n",
    "B_prime_example = 4.5\n",
    "Ra_example = 1.25\n",
    "u_value = get_ground_floor_u_value(B_prime_example, Ra_example)\n",
    "print(f\"Ground floor U-value (B'={B_prime_example}, Ra={Ra_example}): {u_value:.3f} W/m²K\")"
   ],
   "id": "92b7507d56f1e436"
  }
 ],
 "metadata": {
  "kernelspec": {
   "display_name": "Python 3",
   "language": "python",
   "name": "python3"
  },
  "language_info": {
   "codemirror_mode": {
    "name": "ipython",
    "version": 2
   },
   "file_extension": ".py",
   "mimetype": "text/x-python",
   "name": "python",
   "nbconvert_exporter": "python",
   "pygments_lexer": "ipython2",
   "version": "2.7.6"
  }
 },
 "nbformat": 4,
 "nbformat_minor": 5
}

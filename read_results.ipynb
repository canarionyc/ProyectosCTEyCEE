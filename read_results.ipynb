{
 "cells": [
  {
   "cell_type": "markdown",
   "source": "# Lectura y Presentación de Resultados HE1",
   "metadata": {}
  },
  {
   "metadata": {
    "ExecuteTime": {
     "end_time": "2025-10-26T04:56:09.928335Z",
     "start_time": "2025-10-26T04:56:09.924389Z"
    }
   },
   "cell_type": "code",
   "outputs": [
    {
     "name": "stdout",
     "output_type": "stream",
     "text": [
      "Transmitancia termica global: 0.79 W/(m**2 K)\n",
      "Transmitancia termica global limite: 0.45 W/(m**2 K)\n",
      "Control Solar, q_sol;jul: 0.8 (kWh / (m**2 mes)\n",
      "Control Solar, q_sol;jul, limite: 2 (kWh / (m**2 mes)\n",
      "Compacidad: 1.25742 (m**3 / m**2)\n",
      "Relacion de cambio de aire a 50Pa, n50: 8.05657 (1 /h)\n",
      "Relacion de cambio de aire a 50Pa, n50: -1 (1 /h)\n",
      "Demandas del edificio:\n",
      "Calefacccion: 85.6782 kWh / (m**2 año)\n",
      "Refrigeracion: 1.48363 kWh / (m**2 año)\n",
      "Superfice util de calculo: 64 m**2\n"
     ]
    }
   ],
   "execution_count": 1,
   "source": [
    "# Leer el archivo de resultados\n",
    "file_path = 'CTEHE2019/Proyectos/Ejemplo1_2526/Temporales/resultadosHE1.txt'\n",
    "\n",
    "with open(file_path, 'r') as f:\n",
    "    lines = f.readlines()\n",
    "\n",
    "# Extraer valores (eliminar espacios en blanco y saltos de línea)\n",
    "values = [line.strip() for line in lines]\n",
    "\n",
    "# Asignar valores a variables\n",
    "trans_termica = float(values[0])\n",
    "trans_termica_limite = float(values[1])\n",
    "control_solar = float(values[2])\n",
    "control_solar_limite = float(values[3])\n",
    "compacidad = float(values[4])\n",
    "n50_1 = float(values[5])\n",
    "n50_2 = float(values[6])\n",
    "demanda_calefaccion = float(values[7])\n",
    "demanda_refrigeracion = float(values[8])\n",
    "superficie_util = float(values[9])\n",
    "\n",
    "# Presentar resultados formateados\n",
    "print(f\"Transmitancia termica global: {trans_termica} W/(m**2 K)\")\n",
    "print(f\"Transmitancia termica global limite: {trans_termica_limite} W/(m**2 K)\")\n",
    "print(f\"Control Solar, q_sol;jul: {control_solar} (kWh / (m**2 mes)\")\n",
    "print(f\"Control Solar, q_sol;jul, limite: {int(control_solar_limite)} (kWh / (m**2 mes)\")\n",
    "print(f\"Compacidad: {compacidad} (m**3 / m**2)\")\n",
    "print(f\"Relacion de cambio de aire a 50Pa, n50: {n50_1} (1 /h)\")\n",
    "print(f\"Relacion de cambio de aire a 50Pa, n50: {int(n50_2)} (1 /h)\")\n",
    "print(\"Demandas del edificio:\")\n",
    "print(f\"Calefacccion: {demanda_calefaccion} kWh / (m**2 año)\")\n",
    "print(f\"Refrigeracion: {demanda_refrigeracion} kWh / (m**2 año)\")\n",
    "print(f\"Superfice util de calculo: {int(superficie_util)} m**2\")"
   ]
  }
 ],
 "metadata": {
  "kernelspec": {
   "display_name": "Python 3",
   "language": "python",
   "name": "python3"
  },
  "language_info": {
   "name": "python",
   "version": "3.8.0"
  }
 },
 "nbformat": 4,
 "nbformat_minor": 4
}
